{
 "cells": [
  {
   "cell_type": "markdown",
   "id": "a0e50729",
   "metadata": {},
   "source": [
    "# question 1"
   ]
  },
  {
   "cell_type": "code",
   "execution_count": 1,
   "id": "24ecc123",
   "metadata": {},
   "outputs": [],
   "source": [
    " # library 1"
   ]
  },
  {
   "cell_type": "code",
   "execution_count": 2,
   "id": "be92cb1c",
   "metadata": {},
   "outputs": [
    {
     "name": "stdout",
     "output_type": "stream",
     "text": [
      "     name  Age     occuption\n",
      "0    Aayu   12      engineer\n",
      "1   nandu   13     airshster\n",
      "2   attri   14        Doctor\n",
      "3  sharma   15  webdeveloper\n"
     ]
    }
   ],
   "source": [
    "# pandas.Dataframe :-\n",
    "\n",
    "import pandas as pd\n",
    "\n",
    "data={\n",
    "    'name':['Aayu','nandu','attri','sharma'],\n",
    "    'Age':[12,13,14,15],\n",
    "    'occuption':['engineer','airshster','Doctor','webdeveloper']\n",
    "}\n",
    "\n",
    "df = pd.DataFrame(data)\n",
    "print(df)\n"
   ]
  },
  {
   "cell_type": "code",
   "execution_count": 3,
   "id": "5f0657d0",
   "metadata": {},
   "outputs": [
    {
     "name": "stdout",
     "output_type": "stream",
     "text": [
      "0    10\n",
      "1    20\n",
      "2    30\n",
      "3    40\n",
      "dtype: int64\n"
     ]
    }
   ],
   "source": [
    "# 2. pandas,Series():-\n",
    "\n",
    "import pandas as pd\n",
    "data = [10,20,30,40]\n",
    "series = pd.Series(data)\n",
    "print(series)"
   ]
  },
  {
   "cell_type": "code",
   "execution_count": 4,
   "id": "7eccec16",
   "metadata": {},
   "outputs": [
    {
     "name": "stdout",
     "output_type": "stream",
     "text": [
      "   name         email_id     phn_no\n",
      "0   aayu  aayu@gamil.com    7865432\n",
      "1  nandu  aayu@gmail.com  654223445\n"
     ]
    }
   ],
   "source": [
    "# pandas.read_csv():-\n",
    "import pandas as pd\n",
    "\n",
    "\n",
    "df = pd.read_csv('data.csv')\n",
    "\n",
    "print(df)\n"
   ]
  },
  {
   "cell_type": "code",
   "execution_count": 5,
   "id": "87d5c9c2",
   "metadata": {},
   "outputs": [
    {
     "name": "stdout",
     "output_type": "stream",
     "text": [
      "      Name  Age Occupation\n",
      "0    Alice   25   Engineer\n",
      "1      Bob   30     Doctor\n",
      "2  Charlie   35    Teacher\n"
     ]
    }
   ],
   "source": [
    "# pandas.DataFrame.head():-\n",
    "import pandas as pd\n",
    "\n",
    "data = {'Name': ['Alice', 'Bob', 'Charlie', 'David', 'Eva'],\n",
    "        'Age': [25, 30, 35, 40, 45],\n",
    "        'Occupation': ['Engineer', 'Doctor', 'Teacher', 'Lawyer', 'Nurse']}\n",
    "df = pd.DataFrame(data)\n",
    "\n",
    "\n",
    "print(df.head(3))\n"
   ]
  },
  {
   "cell_type": "code",
   "execution_count": 6,
   "id": "e93c157c",
   "metadata": {},
   "outputs": [
    {
     "name": "stdout",
     "output_type": "stream",
     "text": [
      "      Name  Age Occupation\n",
      "2  Charlie   35    Teacher\n",
      "3    David   40     Lawyer\n",
      "4      Eva   45      Nurse\n"
     ]
    }
   ],
   "source": [
    "# pandas.DataFrame.tail():-\n",
    "import pandas as pd\n",
    "\n",
    "data = {'Name': ['Alice', 'Bob', 'Charlie', 'David', 'Eva'],\n",
    "        'Age': [25, 30, 35, 40, 45],\n",
    "        'Occupation': ['Engineer', 'Doctor', 'Teacher', 'Lawyer', 'Nurse']}\n",
    "df = pd.DataFrame(data)\n",
    "\n",
    "\n",
    "print(df.tail(3))\n"
   ]
  },
  {
   "cell_type": "code",
   "execution_count": 7,
   "id": "f59cc02f",
   "metadata": {},
   "outputs": [
    {
     "name": "stdout",
     "output_type": "stream",
     "text": [
      "Occupation\n",
      "Doctor      30.0\n",
      "Engineer    25.0\n",
      "Lawyer      40.0\n",
      "Nurse       45.0\n",
      "Teacher     35.0\n",
      "Name: Age, dtype: float64\n"
     ]
    }
   ],
   "source": [
    "# pandas.DataFrame.groupby():-\n",
    "import pandas as pd\n",
    "\n",
    "data = {'Name': ['Alice', 'Bob', 'Charlie', 'David', 'Eva'],\n",
    "        'Age': [25, 30, 35, 40, 45],\n",
    "        'Occupation': ['Engineer', 'Doctor', 'Teacher', 'Lawyer', 'Nurse']}\n",
    "df = pd.DataFrame(data)\n",
    "\n",
    "grouped_df = df.groupby('Occupation')['Age'].mean()\n",
    "\n",
    "print(grouped_df)\n"
   ]
  },
  {
   "cell_type": "markdown",
   "id": "5410e65a",
   "metadata": {},
   "source": [
    "# question 2"
   ]
  },
  {
   "cell_type": "code",
   "execution_count": 8,
   "id": "bbb54ab0",
   "metadata": {},
   "outputs": [
    {
     "name": "stdout",
     "output_type": "stream",
     "text": [
      "      Name  Age Occupation\n",
      "1    Alice   25   Engineer\n",
      "3      Bob   30     Doctor\n",
      "5  Charlie   35    Teacher\n",
      "7    David   40     Lawyer\n",
      "9      Eva   45      Nurse\n"
     ]
    }
   ],
   "source": [
    "import pandas as pd\n",
    "\n",
    "def reindex_with_increment(df):\n",
    " \n",
    "    df_reset = df.reset_index(drop=True)\n",
    "    \n",
    "  \n",
    "    new_index = pd.RangeIndex(start=1, stop=2*len(df_reset), step=2)\n",
    "    \n",
    "\n",
    "    df_reset.index = new_index\n",
    "    \n",
    "    return df_reset\n",
    "\n",
    "# \n",
    "new_df = reindex_with_increment(df)\n",
    "print(new_df)\n"
   ]
  },
  {
   "cell_type": "markdown",
   "id": "cb6788fd",
   "metadata": {},
   "source": [
    "# question 3"
   ]
  },
  {
   "cell_type": "code",
   "execution_count": 9,
   "id": "dc536bae",
   "metadata": {},
   "outputs": [
    {
     "ename": "KeyError",
     "evalue": "'Values'",
     "output_type": "error",
     "traceback": [
      "\u001b[1;31m---------------------------------------------------------------------------\u001b[0m",
      "\u001b[1;31mKeyError\u001b[0m                                  Traceback (most recent call last)",
      "File \u001b[1;32m~\\AppData\\Local\\Programs\\Python\\Python311\\Lib\\site-packages\\pandas\\core\\indexes\\base.py:3653\u001b[0m, in \u001b[0;36mIndex.get_loc\u001b[1;34m(self, key)\u001b[0m\n\u001b[0;32m   3652\u001b[0m \u001b[38;5;28;01mtry\u001b[39;00m:\n\u001b[1;32m-> 3653\u001b[0m     \u001b[38;5;28;01mreturn\u001b[39;00m \u001b[38;5;28;43mself\u001b[39;49m\u001b[38;5;241;43m.\u001b[39;49m\u001b[43m_engine\u001b[49m\u001b[38;5;241;43m.\u001b[39;49m\u001b[43mget_loc\u001b[49m\u001b[43m(\u001b[49m\u001b[43mcasted_key\u001b[49m\u001b[43m)\u001b[49m\n\u001b[0;32m   3654\u001b[0m \u001b[38;5;28;01mexcept\u001b[39;00m \u001b[38;5;167;01mKeyError\u001b[39;00m \u001b[38;5;28;01mas\u001b[39;00m err:\n",
      "File \u001b[1;32m~\\AppData\\Local\\Programs\\Python\\Python311\\Lib\\site-packages\\pandas\\_libs\\index.pyx:147\u001b[0m, in \u001b[0;36mpandas._libs.index.IndexEngine.get_loc\u001b[1;34m()\u001b[0m\n",
      "File \u001b[1;32m~\\AppData\\Local\\Programs\\Python\\Python311\\Lib\\site-packages\\pandas\\_libs\\index.pyx:176\u001b[0m, in \u001b[0;36mpandas._libs.index.IndexEngine.get_loc\u001b[1;34m()\u001b[0m\n",
      "File \u001b[1;32mpandas\\_libs\\hashtable_class_helper.pxi:7080\u001b[0m, in \u001b[0;36mpandas._libs.hashtable.PyObjectHashTable.get_item\u001b[1;34m()\u001b[0m\n",
      "File \u001b[1;32mpandas\\_libs\\hashtable_class_helper.pxi:7088\u001b[0m, in \u001b[0;36mpandas._libs.hashtable.PyObjectHashTable.get_item\u001b[1;34m()\u001b[0m\n",
      "\u001b[1;31mKeyError\u001b[0m: 'Values'",
      "\nThe above exception was the direct cause of the following exception:\n",
      "\u001b[1;31mKeyError\u001b[0m                                  Traceback (most recent call last)",
      "Cell \u001b[1;32mIn[9], line 16\u001b[0m\n\u001b[0;32m     11\u001b[0m     \u001b[38;5;28mprint\u001b[39m(\u001b[38;5;124m\"\u001b[39m\u001b[38;5;124mSum of the first three values:\u001b[39m\u001b[38;5;124m\"\u001b[39m, sum_of_first_three_values)\n\u001b[0;32m     13\u001b[0m \u001b[38;5;66;03m# Example usage:\u001b[39;00m\n\u001b[0;32m     14\u001b[0m \u001b[38;5;66;03m# Assuming you have a DataFrame named df with a column 'Values'\u001b[39;00m\n\u001b[0;32m     15\u001b[0m \u001b[38;5;66;03m# containing the values [10, 20, 30, 40, 50]\u001b[39;00m\n\u001b[1;32m---> 16\u001b[0m \u001b[43mcalculate_sum_of_first_three_values\u001b[49m\u001b[43m(\u001b[49m\u001b[43mdf\u001b[49m\u001b[43m)\u001b[49m\n",
      "Cell \u001b[1;32mIn[9], line 5\u001b[0m, in \u001b[0;36mcalculate_sum_of_first_three_values\u001b[1;34m(df)\u001b[0m\n\u001b[0;32m      3\u001b[0m \u001b[38;5;28;01mdef\u001b[39;00m \u001b[38;5;21mcalculate_sum_of_first_three_values\u001b[39m(df):\n\u001b[0;32m      4\u001b[0m     \u001b[38;5;66;03m# Extract the 'Values' column from the DataFrame\u001b[39;00m\n\u001b[1;32m----> 5\u001b[0m     values_column \u001b[38;5;241m=\u001b[39m \u001b[43mdf\u001b[49m\u001b[43m[\u001b[49m\u001b[38;5;124;43m'\u001b[39;49m\u001b[38;5;124;43mValues\u001b[39;49m\u001b[38;5;124;43m'\u001b[39;49m\u001b[43m]\u001b[49m\n\u001b[0;32m      7\u001b[0m     \u001b[38;5;66;03m# Calculate the sum of the first three values using slicing\u001b[39;00m\n\u001b[0;32m      8\u001b[0m     sum_of_first_three_values \u001b[38;5;241m=\u001b[39m \u001b[38;5;28msum\u001b[39m(values_column[:\u001b[38;5;241m3\u001b[39m])\n",
      "File \u001b[1;32m~\\AppData\\Local\\Programs\\Python\\Python311\\Lib\\site-packages\\pandas\\core\\frame.py:3761\u001b[0m, in \u001b[0;36mDataFrame.__getitem__\u001b[1;34m(self, key)\u001b[0m\n\u001b[0;32m   3759\u001b[0m \u001b[38;5;28;01mif\u001b[39;00m \u001b[38;5;28mself\u001b[39m\u001b[38;5;241m.\u001b[39mcolumns\u001b[38;5;241m.\u001b[39mnlevels \u001b[38;5;241m>\u001b[39m \u001b[38;5;241m1\u001b[39m:\n\u001b[0;32m   3760\u001b[0m     \u001b[38;5;28;01mreturn\u001b[39;00m \u001b[38;5;28mself\u001b[39m\u001b[38;5;241m.\u001b[39m_getitem_multilevel(key)\n\u001b[1;32m-> 3761\u001b[0m indexer \u001b[38;5;241m=\u001b[39m \u001b[38;5;28;43mself\u001b[39;49m\u001b[38;5;241;43m.\u001b[39;49m\u001b[43mcolumns\u001b[49m\u001b[38;5;241;43m.\u001b[39;49m\u001b[43mget_loc\u001b[49m\u001b[43m(\u001b[49m\u001b[43mkey\u001b[49m\u001b[43m)\u001b[49m\n\u001b[0;32m   3762\u001b[0m \u001b[38;5;28;01mif\u001b[39;00m is_integer(indexer):\n\u001b[0;32m   3763\u001b[0m     indexer \u001b[38;5;241m=\u001b[39m [indexer]\n",
      "File \u001b[1;32m~\\AppData\\Local\\Programs\\Python\\Python311\\Lib\\site-packages\\pandas\\core\\indexes\\base.py:3655\u001b[0m, in \u001b[0;36mIndex.get_loc\u001b[1;34m(self, key)\u001b[0m\n\u001b[0;32m   3653\u001b[0m     \u001b[38;5;28;01mreturn\u001b[39;00m \u001b[38;5;28mself\u001b[39m\u001b[38;5;241m.\u001b[39m_engine\u001b[38;5;241m.\u001b[39mget_loc(casted_key)\n\u001b[0;32m   3654\u001b[0m \u001b[38;5;28;01mexcept\u001b[39;00m \u001b[38;5;167;01mKeyError\u001b[39;00m \u001b[38;5;28;01mas\u001b[39;00m err:\n\u001b[1;32m-> 3655\u001b[0m     \u001b[38;5;28;01mraise\u001b[39;00m \u001b[38;5;167;01mKeyError\u001b[39;00m(key) \u001b[38;5;28;01mfrom\u001b[39;00m \u001b[38;5;21;01merr\u001b[39;00m\n\u001b[0;32m   3656\u001b[0m \u001b[38;5;28;01mexcept\u001b[39;00m \u001b[38;5;167;01mTypeError\u001b[39;00m:\n\u001b[0;32m   3657\u001b[0m     \u001b[38;5;66;03m# If we have a listlike key, _check_indexing_error will raise\u001b[39;00m\n\u001b[0;32m   3658\u001b[0m     \u001b[38;5;66;03m#  InvalidIndexError. Otherwise we fall through and re-raise\u001b[39;00m\n\u001b[0;32m   3659\u001b[0m     \u001b[38;5;66;03m#  the TypeError.\u001b[39;00m\n\u001b[0;32m   3660\u001b[0m     \u001b[38;5;28mself\u001b[39m\u001b[38;5;241m.\u001b[39m_check_indexing_error(key)\n",
      "\u001b[1;31mKeyError\u001b[0m: 'Values'"
     ]
    }
   ],
   "source": [
    "#import pandas as pd\n",
    "\n",
    "#def calculate_sum_of_first_three_values(df):\n",
    "    #values_column = df['Values']\n",
    "\n",
    "  \n",
    "  #  sum_of_first_three_values = sum(values_column[:3])\n",
    "\n",
    "\n",
    "    #print(\"Sum of the first three values:\", sum_of_first_three_values)\n",
    "\n",
    "\n",
    "#calculate_sum_of_first_three_values(df)\n"
   ]
  },
  {
   "cell_type": "markdown",
   "id": "6b08bc57",
   "metadata": {},
   "source": [
    "# question 4"
   ]
  },
  {
   "cell_type": "code",
   "execution_count": 10,
   "id": "04250fe9",
   "metadata": {},
   "outputs": [
    {
     "name": "stdout",
     "output_type": "stream",
     "text": [
      "                            Text  Word_Count\n",
      "0         This is a sample text.           5\n",
      "1  Another example of text data.           5\n",
      "2       Python pandas DataFrame.           3\n"
     ]
    }
   ],
   "source": [
    "import pandas as pd\n",
    "\n",
    "def add_word_count_column(df):\n",
    "    \n",
    "    word_counts = df['Text'].apply(lambda text: len(text.split()))\n",
    "\n",
    "    df['Word_Count'] = word_counts\n",
    "\n",
    "    return df\n",
    "\n",
    "\n",
    "df = pd.DataFrame({'Text': ['This is a sample text.', 'Another example of text data.', 'Python pandas DataFrame.']})\n",
    "df_with_word_count = add_word_count_column(df)\n",
    "print(df_with_word_count)\n"
   ]
  },
  {
   "cell_type": "markdown",
   "id": "6efdb5a5",
   "metadata": {},
   "source": [
    "# question 5"
   ]
  },
  {
   "cell_type": "code",
   "execution_count": 11,
   "id": "310d4681",
   "metadata": {},
   "outputs": [
    {
     "name": "stdout",
     "output_type": "stream",
     "text": [
      "6\n"
     ]
    }
   ],
   "source": [
    "# dataframe size:-\n",
    "import pandas as pd\n",
    "\n",
    "data = {'A': [1, 2, 3], 'B': [4, 5, 6]}\n",
    "df = pd.DataFrame(data)\n",
    "print(df.size)\n"
   ]
  },
  {
   "cell_type": "code",
   "execution_count": 12,
   "id": "b7435722",
   "metadata": {},
   "outputs": [
    {
     "name": "stdout",
     "output_type": "stream",
     "text": [
      "(3, 2)\n"
     ]
    }
   ],
   "source": [
    "# dataframe shape\n",
    "import pandas as pd\n",
    "\n",
    "data = {'A': [1, 2, 3], 'B': [4, 5, 6]}\n",
    "df = pd.DataFrame(data)\n",
    "print(df.shape) \n",
    "\n"
   ]
  },
  {
   "cell_type": "markdown",
   "id": "b297c2be",
   "metadata": {},
   "source": [
    "# question 6"
   ]
  },
  {
   "cell_type": "code",
   "execution_count": 14,
   "id": "e4194ed3",
   "metadata": {},
   "outputs": [],
   "source": [
    "#import pandas as pd\n",
    "\n",
    "\n",
    "#df = pd.read_excel('file_path.xlsx')\n"
   ]
  },
  {
   "cell_type": "markdown",
   "id": "d3c7a8af",
   "metadata": {},
   "source": [
    "# question 7"
   ]
  },
  {
   "cell_type": "code",
   "execution_count": 17,
   "id": "fe8ff633",
   "metadata": {},
   "outputs": [
    {
     "name": "stdout",
     "output_type": "stream",
     "text": [
      "               Email Username\n",
      "0  nandu@example.com    nandu\n",
      "1     attri@test.com    attri\n",
      "2     aayu@gmail.com     aayu\n"
     ]
    }
   ],
   "source": [
    "import pandas as pd\n",
    "\n",
    "def username(df):\n",
    "\n",
    "    df['Username'] = df['Email'].str.split('@').str[0]\n",
    "\n",
    "    return df\n",
    "\n",
    "\n",
    "df = pd.DataFrame({'Email': ['nandu@example.com', 'attri@test.com', 'aayu@gmail.com']})\n",
    "df_with_username = username(df)\n",
    "print(df_with_username)\n"
   ]
  },
  {
   "cell_type": "markdown",
   "id": "d9e0af89",
   "metadata": {},
   "source": [
    "# question 8"
   ]
  },
  {
   "cell_type": "code",
   "execution_count": 18,
   "id": "9dff9de6",
   "metadata": {},
   "outputs": [
    {
     "name": "stdout",
     "output_type": "stream",
     "text": [
      "   A  B  C\n",
      "1  8  2  7\n",
      "2  6  9  4\n",
      "4  9  1  2\n"
     ]
    }
   ],
   "source": [
    "import pandas as pd\n",
    "\n",
    "def filter_dataframe(df):\n",
    "   \n",
    "    filtered_df = df[(df['A'] > 5) & (df['B'] < 10)]\n",
    "\n",
    "    return filtered_df\n",
    "\n",
    "\n",
    "df = pd.DataFrame({'A': [3,8,6,2,9],\n",
    "                   'B': [5, 2, 9, 3, 1],\n",
    "                   'C': [1, 7, 4, 5, 2]})\n",
    "\n",
    "filtered_df = filter_dataframe(df)\n",
    "print(filtered_df)\n"
   ]
  },
  {
   "cell_type": "markdown",
   "id": "1663b1b0",
   "metadata": {},
   "source": [
    "# question 9"
   ]
  },
  {
   "cell_type": "code",
   "execution_count": 19,
   "id": "54f44f35",
   "metadata": {},
   "outputs": [
    {
     "name": "stdout",
     "output_type": "stream",
     "text": [
      "Mean: 30.0\n",
      "Median: 30.0\n",
      "Standard Deviation: 15.811388300841896\n"
     ]
    }
   ],
   "source": [
    "import pandas as pd\n",
    "\n",
    "def calculate_statistics(df):\n",
    "  \n",
    "    mean_value = df['Values'].mean()\n",
    "    median_value = df['Values'].median()\n",
    "    std_value = df['Values'].std()\n",
    "\n",
    "    return mean_value, median_value, std_value\n",
    "\n",
    "\n",
    "df = pd.DataFrame({'Values': [10, 20, 30, 40, 50]})\n",
    "mean, median, std = calculate_statistics(df)\n",
    "print(\"Mean:\", mean)\n",
    "print(\"Median:\", median)\n",
    "print(\"Standard Deviation:\", std)\n"
   ]
  },
  {
   "cell_type": "markdown",
   "id": "a5eb0734",
   "metadata": {},
   "source": [
    "# question 10"
   ]
  },
  {
   "cell_type": "code",
   "execution_count": 21,
   "id": "dfbbc02d",
   "metadata": {},
   "outputs": [],
   "source": [
    "#import pandas as pd\n",
    "\n",
    "#def calculate_moving_average(df):\n",
    "    \n",
    "\n",
    "   \n",
    "    #df_sorted['MovingAverage'] = df_sorted['Sales'].rolling(window=7, min_periods=1).mean()\n",
    "\n",
    "    #return df_sorted\n",
    "\n",
    "\n",
    "#df = pd.DataFrame({\n",
    "    #'Sales': [100, 150, 200, 180, 160, 120, 140, 170, 130, 190],\n",
    "    #'Date': pd.date_range(start='2023-07-01', periods=10)\n",
    "#})\n",
    "\n",
    "#df_with_moving_average = calculate_moving_average(df)\n",
    "#print(df_with_moving_average)\n"
   ]
  },
  {
   "cell_type": "markdown",
   "id": "fc68469e",
   "metadata": {},
   "source": [
    "# question 11"
   ]
  },
  {
   "cell_type": "code",
   "execution_count": 22,
   "id": "d2f11fa2",
   "metadata": {},
   "outputs": [
    {
     "name": "stdout",
     "output_type": "stream",
     "text": [
      "        Date    Weekday\n",
      "0 2023-01-01     Sunday\n",
      "1 2023-01-02     Monday\n",
      "2 2023-01-03    Tuesday\n",
      "3 2023-01-04  Wednesday\n",
      "4 2023-01-05   Thursday\n"
     ]
    }
   ],
   "source": [
    "import pandas as pd\n",
    "\n",
    "def add_weekday_column(df):\n",
    " \n",
    "    df['Date'] = pd.to_datetime(df['Date'])\n",
    "\n",
    "   \n",
    "    df['Weekday'] = df['Date'].dt.strftime('%A')\n",
    "\n",
    "    return df\n",
    "\n",
    "\n",
    "df = pd.DataFrame({'Date': ['2023-01-01', '2023-01-02', '2023-01-03', '2023-01-04', '2023-01-05']})\n",
    "df_with_weekday = add_weekday_column(df)\n",
    "print(df_with_weekday)\n"
   ]
  },
  {
   "cell_type": "markdown",
   "id": "356cb363",
   "metadata": {},
   "source": [
    "# question 12"
   ]
  },
  {
   "cell_type": "code",
   "execution_count": 24,
   "id": "072fcf7a",
   "metadata": {},
   "outputs": [
    {
     "name": "stdout",
     "output_type": "stream",
     "text": [
      "        Date\n",
      "0 2023-01-01\n",
      "1 2023-01-15\n",
      "3 2023-01-25\n"
     ]
    }
   ],
   "source": [
    "import pandas as pd\n",
    "\n",
    "def filter_by_date_range(df):\n",
    "   \n",
    "    df['Date'] = pd.to_datetime(df['Date'])\n",
    "\n",
    "    \n",
    "    start_date = pd.to_datetime('2023-01-01')\n",
    "    end_date = pd.to_datetime('2023-01-31')\n",
    " \n",
    "    filtered_df = df[(df['Date'] >= start_date) & (df['Date'] <= end_date)]\n",
    "\n",
    "    return filtered_df\n",
    "\n",
    "\n",
    "df = pd.DataFrame({'Date': ['2023-01-01', '2023-01-15', '2023-02-10', '2023-01-25']})\n",
    "df_with_date_range = filter_by_date_range(df)\n",
    "print(df_with_date_range)\n",
    "\n"
   ]
  },
  {
   "cell_type": "markdown",
   "id": "2c7d65c0",
   "metadata": {},
   "source": [
    "# question 13"
   ]
  },
  {
   "cell_type": "code",
   "execution_count": 25,
   "id": "ce89cfa9",
   "metadata": {},
   "outputs": [],
   "source": [
    "# To use the basic functions of Pandas, the first and foremost necessary library that needs to be imported is the Pandas library itself. "
   ]
  },
  {
   "cell_type": "code",
   "execution_count": null,
   "id": "ff58dc5d",
   "metadata": {},
   "outputs": [],
   "source": [
    "# import pandas as pd\n"
   ]
  }
 ],
 "metadata": {
  "kernelspec": {
   "display_name": "Python 3 (ipykernel)",
   "language": "python",
   "name": "python3"
  },
  "language_info": {
   "codemirror_mode": {
    "name": "ipython",
    "version": 3
   },
   "file_extension": ".py",
   "mimetype": "text/x-python",
   "name": "python",
   "nbconvert_exporter": "python",
   "pygments_lexer": "ipython3",
   "version": "3.11.3"
  }
 },
 "nbformat": 4,
 "nbformat_minor": 5
}
